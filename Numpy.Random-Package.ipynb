{
 "cells": [
  {
   "cell_type": "markdown",
   "metadata": {},
   "source": [
    "# Introduction\n",
    "\n",
    "This document has been created to understand the functionality of numpy.random package in Python. The document is separated in four different task, summarised as below: \n",
    "\n",
    "1. Overall purpose of the package.\n",
    "2. Use of the “Simple random data” and “Permutations” functions.\n",
    "3. Use and purpose of at least five “Distributions” functions.\n",
    "4. Use of seeds in generating pseudorandom numbers.\n"
   ]
  },
  {
   "cell_type": "markdown",
   "metadata": {},
   "source": [
    "# Overal Purpose of Numpy.Random Package"
   ]
  },
  {
   "cell_type": "markdown",
   "metadata": {},
   "source": [
    "### What is Numpy?\n",
    "\n",
    "NumPy is a module for the Python programming language that’s used for data science and scientific computing.\n",
    "\n",
    "Specifically, NumPy performs data manipulation on numerical data. It enables you to collect numeric data into a data structure, called the NumPy array. It also enables you to perform various computations and manipulations on NumPy arrays.\n",
    "\n",
    "Essentially, NumPy is a package for working with numeric data in Python.\n",
    "\n",
    "### Numpy.Random Package\n",
    "\n",
    "If you’re doing any sort of statistics or data science in Python, you’ll often need to work with random numbers. Random samples are very common in data-related fields. This particular type of functions are used in a lot of games, lotteries or any application requiring random number generation. \n",
    "\n",
    "NumPy has a variety of tools for working with numerical data, creating random samples. In most cases, NumPy’s tools enable you to do one of two things: create numerical data (structured as a NumPy array), or perform some calculation on a NumPy array.\n",
    "\n",
    "If you’re working in Python and doing any sort of data work, you’ll have to create a random sample at some point. NumPy random Package can help you do just that."
   ]
  },
  {
   "cell_type": "markdown",
   "metadata": {},
   "source": [
    "See example below adapted from [numpy.random.rand manual](https://docs.scipy.org/doc/numpy-1.16.0/reference/generated/numpy.random.rand.html#numpy.random.rand): <br>\n",
    "\n",
    "First we need to import numpy with a name easy to handle and np is commonly use"
   ]
  },
  {
   "cell_type": "code",
   "execution_count": 39,
   "metadata": {},
   "outputs": [],
   "source": [
    "import numpy as np "
   ]
  },
  {
   "cell_type": "markdown",
   "metadata": {},
   "source": [
    "A example in the formula below, we ask Numpy to give us a random float and numpy will give a number in the half-open interval between [0.0, 1.0) which means that the number will start from 0 (including 0) to 1 (not including 1)"
   ]
  },
  {
   "cell_type": "code",
   "execution_count": 34,
   "metadata": {},
   "outputs": [
    {
     "data": {
      "text/plain": [
       "0.5777237215160148"
      ]
     },
     "execution_count": 34,
     "metadata": {},
     "output_type": "execute_result"
    }
   ],
   "source": [
    "np.random.rand()"
   ]
  },
  {
   "cell_type": "markdown",
   "metadata": {},
   "source": [
    "We can ask numpy the type of data to verify, this formula is create for float numbers and we can see below this is the result, there are other formulas that allow to work with different data. "
   ]
  },
  {
   "cell_type": "code",
   "execution_count": 35,
   "metadata": {},
   "outputs": [
    {
     "data": {
      "text/plain": [
       "float"
      ]
     },
     "execution_count": 35,
     "metadata": {},
     "output_type": "execute_result"
    }
   ],
   "source": [
    "type(np.random.rand())"
   ]
  },
  {
   "cell_type": "markdown",
   "metadata": {},
   "source": [
    "We can ask numpy to give us the ammount of random numbers we want, below we have the example for 5"
   ]
  },
  {
   "cell_type": "code",
   "execution_count": 37,
   "metadata": {},
   "outputs": [
    {
     "data": {
      "text/plain": [
       "array([0.41298272, 0.11708626, 0.08304283, 0.44645291, 0.55414175])"
      ]
     },
     "execution_count": 37,
     "metadata": {},
     "output_type": "execute_result"
    }
   ],
   "source": [
    "np.random.rand (5,)"
   ]
  },
  {
   "cell_type": "markdown",
   "metadata": {},
   "source": [
    "# Use of the “Simple random data” and “Permutations” functions."
   ]
  },
  {
   "cell_type": "markdown",
   "metadata": {},
   "source": [
    "\n",
    "The Numpy standard library provides a module called [random sampling (numpy.random)](https://docs.scipy.org/doc/numpy-1.16.0/reference/routines.random.html) that offers a suite of functions for generating random numbers.\n",
    "\n",
    "We will look some examples of use cases for generating and using random numbers and randomness with simple random data and permutations.\n",
    "\n",
    "### Simple Random Data"
   ]
  },
  {
   "cell_type": "markdown",
   "metadata": {},
   "source": [
    "Let’s take a look at some more basic functionality of random. "
   ]
  },
  {
   "cell_type": "markdown",
   "metadata": {},
   "source": [
    "- Numpy.random.rand(): This function returns a random float in the interval [0.0, 1.0). The result will always be less than the right-hand endpoint (1.0). This is also known as a semi-open range:"
   ]
  },
  {
   "cell_type": "code",
   "execution_count": 6,
   "metadata": {},
   "outputs": [
    {
     "data": {
      "text/plain": [
       "0.28820910344121475"
      ]
     },
     "execution_count": 6,
     "metadata": {},
     "output_type": "execute_result"
    }
   ],
   "source": [
    "np.random.rand()"
   ]
  },
  {
   "cell_type": "markdown",
   "metadata": {},
   "source": [
    "- Numpy.random.randn() Returns samples from the “standard normal” distribution. This function takes a single argument to specify the size of the resulting array. The Gaussian values are drawn from a standard Gaussian distribution; this is a distribution that has a mean of 0.0 and a standard deviation of 1.0."
   ]
  },
  {
   "cell_type": "code",
   "execution_count": 7,
   "metadata": {},
   "outputs": [
    {
     "data": {
      "text/plain": [
       "1.0221456931248165"
      ]
     },
     "execution_count": 7,
     "metadata": {},
     "output_type": "execute_result"
    }
   ],
   "source": [
    "np.random.randn()"
   ]
  },
  {
   "cell_type": "markdown",
   "metadata": {},
   "source": [
    "- Numpy.random.randint: Generate a random integer between two endpoints. This spans the full [x, y] interval and may include both endpoints:"
   ]
  },
  {
   "cell_type": "code",
   "execution_count": 8,
   "metadata": {},
   "outputs": [
    {
     "data": {
      "text/plain": [
       "795"
      ]
     },
     "execution_count": 8,
     "metadata": {},
     "output_type": "execute_result"
    }
   ],
   "source": [
    "np.random.randint(500, 50000)"
   ]
  },
  {
   "cell_type": "markdown",
   "metadata": {},
   "source": [
    "- Numpy.random.random_sample: Returns a random float and numpy will give a number in the half-open interval between [0.0, 1.0), use to mimic sampling without replacement. Results are from the “continuous uniform” distribution over the stated interval. "
   ]
  },
  {
   "cell_type": "code",
   "execution_count": 9,
   "metadata": {},
   "outputs": [
    {
     "data": {
      "text/plain": [
       "0.35480595382442737"
      ]
     },
     "execution_count": 9,
     "metadata": {},
     "output_type": "execute_result"
    }
   ],
   "source": [
    "np.random.random_sample()"
   ]
  },
  {
   "cell_type": "code",
   "execution_count": null,
   "metadata": {},
   "outputs": [],
   "source": []
  },
  {
   "cell_type": "markdown",
   "metadata": {},
   "source": [
    "### Permutations "
   ]
  },
  {
   "cell_type": "markdown",
   "metadata": {},
   "source": [
    "- Numpy.random.shuffle: This function will modify the sequence object and randomize the order of elements. This function only shuffles the array along the first axis of a multi-dimensional array. The order of sub-arrays is changed but their contents remains the same."
   ]
  },
  {
   "cell_type": "code",
   "execution_count": 10,
   "metadata": {},
   "outputs": [
    {
     "data": {
      "text/plain": [
       "array([3, 6, 5, 0, 7, 8, 4, 2, 1, 9])"
      ]
     },
     "execution_count": 10,
     "metadata": {},
     "output_type": "execute_result"
    }
   ],
   "source": [
    "arr = np.arange(10)\n",
    "np.random.shuffle(arr)\n",
    "arr"
   ]
  },
  {
   "cell_type": "code",
   "execution_count": null,
   "metadata": {},
   "outputs": [],
   "source": []
  },
  {
   "cell_type": "markdown",
   "metadata": {},
   "source": [
    "- Numpy.random.permutation: Randomly permute a sequence, or return a permuted range.\n",
    "\n",
    "What is Permutation? Is an arrangement of objects in a specific order. Order of arrangement of object is very important. The number of permutations on a set of n elements is given by  n!.  For example, there are 2! = 2*1 = 2 permutations of {1, 2}, namely {1, 2} and {2, 1}, and 3! = 3*2*1 = 6 permutations of {1, 2, 3}, namely {1, 2, 3}, {1, 3, 2}, {2, 1, 3}, {2, 3, 1}, {3, 1, 2} and {3, 2, 1}.\n",
    "    \n"
   ]
  },
  {
   "cell_type": "code",
   "execution_count": 11,
   "metadata": {},
   "outputs": [
    {
     "data": {
      "text/plain": [
       "array([1, 9, 5, 8, 0, 6, 3, 4, 7, 2])"
      ]
     },
     "execution_count": 11,
     "metadata": {},
     "output_type": "execute_result"
    }
   ],
   "source": [
    "np.random.permutation(10)"
   ]
  },
  {
   "cell_type": "markdown",
   "metadata": {},
   "source": [
    "# Use and purpose of some “Distributions” functions."
   ]
  },
  {
   "cell_type": "markdown",
   "metadata": {},
   "source": [
    "- Numpy.random.triangular: Is a continuous probability distribution shaped like a triangle, provides a simplistic representation of the probability distribution when sample data is limited. Estimate the lower and upper boundaries of the distribution by finding the minimum and maximum values of the sample data. For the peak parameter, the median might provide a better estimate of the mode than the mean, since the data includes an outlier.\n",
    "\n",
    "It is defined by:\n",
    "\n",
    "a: the minimum value, where a ≤ c,<br>\n",
    "b: the maximum value, where b ≥ c,<br>\n",
    "c: the peak value (the height of the triangle), where a ≤ c ≤ b<br>\n",
    "\n",
    "Example taken from [numpy.random.triangular](https://docs.scipy.org/doc/numpy-1.15.0/reference/generated/numpy.random.triangular.html). Where we created 1000000 values, with a minimum value of -3, maximum value is 8 and the peak value is on 0.\n"
   ]
  },
  {
   "cell_type": "code",
   "execution_count": 25,
   "metadata": {},
   "outputs": [],
   "source": [
    "import matplotlib.pyplot as plt"
   ]
  },
  {
   "cell_type": "code",
   "execution_count": 26,
   "metadata": {},
   "outputs": [
    {
     "data": {
      "image/png": "[encoded data removed]",
      "text/plain": [
       "<Figure size 432x288 with 1 Axes>"
      ]
     },
     "metadata": {
      "needs_background": "light"
     },
     "output_type": "display_data"
    }
   ],
   "source": [
    "h = plt.hist(np.random.triangular(-3, 0, 8, 100000), bins=200, density=True)\n"
   ]
  },
  {
   "cell_type": "markdown",
   "metadata": {},
   "source": [
    "- Numpy.random.uniform: The continuous uniform distribution or rectangular distribution is a family of symmetric probability distributions such that for each member of the family, all intervals of the same length on the distribution's support are equally probable. The support is defined by the two parameters, a and b, which are its minimum and maximum values.\n",
    "Samples are uniformly distributed over the half-open interval [low, high) (includes low, but excludes high). In other words, any value within the given interval is equally likely to be drawn by uniform.\n",
    "\n",
    "Example taken from [numpy.random.uniform](https://docs.scipy.org/doc/numpy-1.16.0/reference/generated/numpy.random.uniform.html#numpy.random.uniform). We created 15 values with similar distribution between -1 and 0, so we guarantee there is no significant gaps between one value and the other."
   ]
  },
  {
   "cell_type": "code",
   "execution_count": 27,
   "metadata": {},
   "outputs": [],
   "source": [
    "s = np.random.uniform(-1,0,1000)"
   ]
  },
  {
   "cell_type": "markdown",
   "metadata": {},
   "source": [
    "All values are within the given interval:"
   ]
  },
  {
   "cell_type": "code",
   "execution_count": 28,
   "metadata": {},
   "outputs": [
    {
     "data": {
      "text/plain": [
       "True"
      ]
     },
     "execution_count": 28,
     "metadata": {},
     "output_type": "execute_result"
    }
   ],
   "source": [
    "np.all(s >= -1)\n",
    "np.all(s < 0)"
   ]
  },
  {
   "cell_type": "markdown",
   "metadata": {},
   "source": [
    "Display the histogram of the samples, along with the probability density function:"
   ]
  },
  {
   "cell_type": "code",
   "execution_count": 29,
   "metadata": {},
   "outputs": [
    {
     "data": {
      "text/plain": [
       "[<matplotlib.lines.Line2D at 0x23c87c79e88>]"
      ]
     },
     "execution_count": 29,
     "metadata": {},
     "output_type": "execute_result"
    },
    {
     "data": {
      "image/png": "[encoded data removed]",
      "text/plain": [
       "<Figure size 432x288 with 1 Axes>"
      ]
     },
     "metadata": {
      "needs_background": "light"
     },
     "output_type": "display_data"
    }
   ],
   "source": [
    "count, bins, ignored = plt.hist(s, 15, density=True)\n",
    "plt.plot(bins, np.ones_like(bins), linewidth=2, color='r')"
   ]
  },
  {
   "cell_type": "markdown",
   "metadata": {},
   "source": [
    "- Numpy.random.power: In statistics, a power law is a functional relationship between two quantities, where a relative change in one quantity results in a proportional relative change in the other quantity, independent of the initial size of those quantities: one quantity varies as a power of another. The simplest example of the law in action is a square; if you double the length of a side (say, from 2 to 4 inches) then the area will quadruple (from 4 to 16 inches squared).\n",
    "\n",
    "The formula draws samples in intervals between [0, 1] from a power distribution with positive exponent a - 1.\n",
    "\n",
    "Example taken from [numpy.random.power](https://docs.scipy.org/doc/numpy-1.16.0/reference/generated/numpy.random.power.html#numpy.random.power). Where we first draw samples for the function and after we display it"
   ]
  },
  {
   "cell_type": "code",
   "execution_count": 30,
   "metadata": {},
   "outputs": [],
   "source": [
    "a = 5.\n",
    "samples = 1000\n",
    "s = np.random.power(a, samples)"
   ]
  },
  {
   "cell_type": "code",
   "execution_count": 31,
   "metadata": {},
   "outputs": [
    {
     "data": {
      "text/plain": [
       "[<matplotlib.lines.Line2D at 0x23c87d1bdc8>]"
      ]
     },
     "execution_count": 31,
     "metadata": {},
     "output_type": "execute_result"
    },
    {
     "data": {
      "image/png": "[encoded data removed]",
      "text/plain": [
       "<Figure size 432x288 with 1 Axes>"
      ]
     },
     "metadata": {
      "needs_background": "light"
     },
     "output_type": "display_data"
    }
   ],
   "source": [
    "count, bins, ignored = plt.hist(s, bins=30)\n",
    "x = np.linspace(0, 1, 100)\n",
    "y = a*x**(a-1.)\n",
    "normed_y = samples*np.diff(bins)[0]*y\n",
    "plt.plot(x, normed_y)"
   ]
  },
  {
   "cell_type": "markdown",
   "metadata": {},
   "source": [
    "- Numpy.random.pareto: The Pareto distribution, named after the Italian civil engineer, economist, and sociologist Vilfredo Pareto, is a power-law probability distribution that is used in many types of observable phenomena. Originally applied to describing the distribution of wealth in a society, fitting the trend that a large portion of wealth is held by a small fraction of the population, the Pareto distribution has colloquially become known and referred to as the Pareto principle, or \"80-20 rule\", and is sometimes called the \"Matthew principle\". This rule states that, for example, 80% of the wealth of a society is held by 20% of its population. \n",
    "\n",
    "Example taken from [numpy.random.pareto](https://docs.scipy.org/doc/numpy-1.16.0/reference/generated/numpy.random.pareto.html#numpy.random.pareto). Where we can see that 80 percent of the weights are in the lowest 20 percent of the range, while the other 20 percent fill the remaining 80 percent of the range."
   ]
  },
  {
   "cell_type": "code",
   "execution_count": 13,
   "metadata": {},
   "outputs": [],
   "source": [
    "a, m = 3., 2.  # shape and mode\n",
    "s = (np.random.pareto(a, 1000) + 1) * m"
   ]
  },
  {
   "cell_type": "code",
   "execution_count": 12,
   "metadata": {},
   "outputs": [
    {
     "data": {
      "text/plain": [
       "[<matplotlib.lines.Line2D at 0x2886e6ac208>]"
      ]
     },
     "execution_count": 12,
     "metadata": {},
     "output_type": "execute_result"
    },
    {
     "data": {
      "image/png": "[encoded data removed]",
      "text/plain": [
       "<Figure size 432x288 with 1 Axes>"
      ]
     },
     "metadata": {
      "needs_background": "light"
     },
     "output_type": "display_data"
    }
   ],
   "source": [
    "count, bins, _ = plt.hist(s, 100, density=True)\n",
    "fit = a*m**a / bins**(a+1)\n",
    "plt.plot(bins, max(count)*fit/max(fit), linewidth=2, color='r')"
   ]
  },
  {
   "cell_type": "markdown",
   "metadata": {},
   "source": [
    "- Numpy.random.poisson:The Poisson distribution, named after French mathematician Siméon Denis Poisson, is a discrete probability distribution that expresses the probability of a given number of events occurring in a fixed interval of time or space if these events occur with a known constant rate and independently of the time since the last event. The Poisson distribution can also be used for the number of events in other specified intervals such as distance, area or volume.\n",
    "\n",
    "For instance, the number of phone calls received by a call center per hour and the number of decay events per second from a radioactive source.\n",
    "\n",
    "Example taken from [numpy.random.poisson](https://docs.scipy.org/doc/numpy-1.16.0/reference/generated/numpy.random.poisson.html#numpy-random-poisson). Where we can see the interval is >= 0 and a sequence of 5 intervals must be broadcastable over 10000 variables size. The informatin is displayed in 14 bins.\n"
   ]
  },
  {
   "cell_type": "code",
   "execution_count": 30,
   "metadata": {},
   "outputs": [],
   "source": [
    "s = np.random.poisson(5, 10000)"
   ]
  },
  {
   "cell_type": "code",
   "execution_count": 31,
   "metadata": {},
   "outputs": [
    {
     "data": {
      "image/png": "[encoded data removed]",
      "text/plain": [
       "<Figure size 432x288 with 1 Axes>"
      ]
     },
     "metadata": {
      "needs_background": "light"
     },
     "output_type": "display_data"
    }
   ],
   "source": [
    "count, bins, ignored = plt.hist(s, 14, density=True)"
   ]
  },
  {
   "cell_type": "markdown",
   "metadata": {},
   "source": [
    "# Use of seeds in generating pseudorandom numbers."
   ]
  },
  {
   "cell_type": "markdown",
   "metadata": {},
   "source": [
    "### What is NumPy random seed?\n",
    "NumPy random seed is a function that sets the random seed of the NumPy pseudo-random number generator. It provides an essential input that enables NumPy to generate pseudo-random numbers for random processes.\n",
    "\n",
    "### What is a pseudo-random number?\n",
    "Pseudo-random numbers are computer generated numbers that appear random, but are actually predetermined. Almost random, but not really random. \n",
    "\n",
    "Computers solve the problem of generating “random” numbers with an algorithm. That is to say, the numbers generated by pseudo-random number generators appear to be random. Even though the numbers they are completely determined by the algorithm, when you examine them, there is typically no discernible pattern.\n",
    "\n",
    "### Use of seed \n",
    "\n",
    "Numpy.random.seed provides an input to the pseudo-random number generator.\n",
    "\n",
    "The pseudo-random number generated by NumPy, are 100% determined by the input and the algorithm provided and that is what seed function does. \n",
    "\n",
    "It allows you to provide a “seed” value to NumPy’s random number generator.\n",
    "\n",
    "The numpy.random.seed function works in conjunction with other functions from NumPy. For example, you might use numpy.random.seed along with numpy.random.randint and this will enable you to create random integers with NumPy. You can also use numpy.random.seed with numpy.random.normal to create normally distributed numbers… or you can use it with numpy.random.choice to generate a random sample from an input.\n",
    "\n",
    "In fact, there are several dozen NumPy random functions that enable you to generate random numbers, random samples, and samples from specific probability distributions.\n",
    "\n",
    "As mentioned, pseudo-random number generators are completely deterministic which mean they operate by algorithm, therefore if you provide the same seed, you will get the same output and if you change the seed you will get a different output.\n",
    "\n",
    "Essentially, we use NumPy random seed when we need to generate pseudo-random numbers in a repeatable way, that makes the code easier to share and if you don't set a seed, Numpy will set one for you and that seed might change moment to moment. This will make your outputs different every time you run it.\n",
    "\n",
    "So to summarize: you don’t absolutely have to use numpy.random.seed, but you should use it if you want your code to have repeatable outputs.\n"
   ]
  },
  {
   "cell_type": "markdown",
   "metadata": {},
   "source": [
    "## References\n",
    "\n",
    "- https://www.sharpsightlabs.com/blog/numpy-random-normal/\n",
    "- https://pynative.com/python-random-module/\n",
    "- https://docs.scipy.org/doc/numpy-1.16.0/reference/routines.random.html#simple-random-data\n",
    "- https://www.geeksforgeeks.org/generate-all-the-permutation-of-a-list-in-python/\n",
    "- https://realpython.com/python-random/\n",
    "- https://honingds.com/blog/python-random/ ' Seed\n",
    "- https://machinelearningmastery.com/how-to-generate-random-numbers-in-python/\n",
    "- https://www.r-craft.org/r-news/numpy-random-seed-explained/\n",
    "- https://www.statisticshowto.datasciencecentral.com/triangular-distribution/\n",
    "- https://www.mathworks.com/help/stats/generate-random-numbers-using-a-triangular-probability-distribution-object.html\n",
    "- https://docs.scipy.org/doc/numpy-1.15.0/reference/generated/numpy.random.triangular.html\n",
    "- https://en.wikipedia.org/wiki/Uniform_distribution_(continuous)\n",
    "- https://docs.scipy.org/doc/numpy-1.16.0/reference/generated/numpy.random.uniform.html#numpy.random.uniform\n",
    "- https://en.wikipedia.org/wiki/Power_law\n",
    "- https://docs.scipy.org/doc/numpy-1.16.0/reference/generated/numpy.random.power.html#numpy.random.power\n",
    "- https://en.wikipedia.org/wiki/Pareto_distribution\n",
    "- https://en.wikipedia.org/wiki/Poisson_distribution\n",
    "- https://docs.scipy.org/doc/numpy-1.16.0/reference/generated/numpy.random.poisson.html#numpy-random-poisson"
   ]
  },
  {
   "cell_type": "code",
   "execution_count": null,
   "metadata": {},
   "outputs": [],
   "source": []
  }
 ],
 "metadata": {
  "kernelspec": {
   "display_name": "Python 3",
   "language": "python",
   "name": "python3"
  },
  "language_info": {
   "codemirror_mode": {
    "name": "ipython",
    "version": 3
   },
   "file_extension": ".py",
   "mimetype": "text/x-python",
   "name": "python",
   "nbconvert_exporter": "python",
   "pygments_lexer": "ipython3",
   "version": "3.7.4"
  }
 },
 "nbformat": 4,
 "nbformat_minor": 2
}
