{
 "cells": [
  {
   "cell_type": "markdown",
   "metadata": {},
   "source": [
    "# Introduction\n",
    "___________________________________________________________________________________________________________________________"
   ]
  },
  {
   "cell_type": "markdown",
   "metadata": {},
   "source": [
    "This document has been created to understand the functionality of **numpy.random package** in Python. The document is separated in four different task, summarised as below: \n",
    "\n",
    "- Overall purpose of the package.\n",
    "- Use of the “Simple random data” and “Permutations” functions.\n",
    "- Use and purpose of at least five “Distributions” functions.\n",
    "- Use of seeds in generating pseudorandom numbers."
   ]
  },
  {
   "cell_type": "markdown",
   "metadata": {},
   "source": [
    "# Overal Purpose of Numpy.Random Package\n",
    "___________________________________________________________________________________________________________________________"
   ]
  },
  {
   "cell_type": "markdown",
   "metadata": {},
   "source": [
    "### What is Numpy?\n",
    "\n",
    "NumPy is a module for the Python programming language that is used for data science and scientific computing. Specifically, NumPy performs data manipulation on numerical data. It enables you to collect numeric data into a data structure, called the NumPy array. It also enables you to perform various computations and manipulations on NumPy arrays.\n",
    "\n",
    "Essentially, NumPy is a package for working with numeric data in Python.\n",
    "\n",
    "### Numpy.Random Package\n",
    "\n",
    "If you’re doing any sort of statistics or data science in Python, you will often need to work with random numbers. Random samples are very common in data-related fields. This particular type of functions are used in a lot of games, lotteries or any application requiring random number generation. \n",
    "\n",
    "NumPy has a variety of tools for working with numerical data, creating random samples. In most cases, NumPy’s tools enable you to do one of two things: create numerical data (structured as a NumPy array), or perform some calculation on a NumPy array.\n",
    "\n",
    "If you’re working in Python and doing any sort of data work, you’ll have to create a random sample at some point. NumPy random Package can help you do just that."
   ]
  },
  {
   "cell_type": "markdown",
   "metadata": {},
   "source": [
    "To understand better how to generate random numbers in numpy, you can see the example below adapted from [numpy.random manual](https://docs.scipy.org/doc/numpy-1.16.0/reference/generated/numpy.random.rand.html#numpy.random.rand): <br>\n",
    "\n",
    "First we need to import numpy with a name easy to handle, and np is commonly use"
   ]
  },
  {
   "cell_type": "code",
   "execution_count": 6,
   "metadata": {},
   "outputs": [],
   "source": [
    "import numpy as np "
   ]
  },
  {
   "cell_type": "markdown",
   "metadata": {},
   "source": [
    "In the function below, we ask Numpy to give us a random float in the half-open interval between [0.0, 1.0). Which means that numpy will give us a random number from 0 (including 0) to 1 (not including 1)"
   ]
  },
  {
   "cell_type": "code",
   "execution_count": 7,
   "metadata": {},
   "outputs": [
    {
     "data": {
      "text/plain": [
       "0.6568514665548761"
      ]
     },
     "execution_count": 7,
     "metadata": {},
     "output_type": "execute_result"
    }
   ],
   "source": [
    "np.random.rand()"
   ]
  },
  {
   "cell_type": "markdown",
   "metadata": {},
   "source": [
    "The function above is create for float numbers and we can ask numpy the type of data to verify. There are other functions that allow to work with different data. "
   ]
  },
  {
   "cell_type": "code",
   "execution_count": 8,
   "metadata": {},
   "outputs": [
    {
     "data": {
      "text/plain": [
       "float"
      ]
     },
     "execution_count": 8,
     "metadata": {},
     "output_type": "execute_result"
    }
   ],
   "source": [
    "type(np.random.rand())"
   ]
  },
  {
   "cell_type": "markdown",
   "metadata": {},
   "source": [
    "We can ask numpy to give us as much random numbers as we want, below we have the example to create 5 random numbers"
   ]
  },
  {
   "cell_type": "code",
   "execution_count": 9,
   "metadata": {},
   "outputs": [
    {
     "data": {
      "text/plain": [
       "array([0.87013156, 0.41658573, 0.76803058, 0.29033589, 0.95534938])"
      ]
     },
     "execution_count": 9,
     "metadata": {},
     "output_type": "execute_result"
    }
   ],
   "source": [
    "np.random.rand (5,)"
   ]
  },
  {
   "cell_type": "markdown",
   "metadata": {},
   "source": [
    "# Use of the “Simple Random Data” and “Permutations” functions\n",
    "___________________________________________________________________________________________________________________________"
   ]
  },
  {
   "cell_type": "markdown",
   "metadata": {},
   "source": [
    "\n",
    "The Numpy standard library provides a module called [random sampling (numpy.random)](https://docs.scipy.org/doc/numpy-1.16.0/reference/routines.random.html) that offers a suite of functions from the numpy.random package. These functions are divided in four groups including Simple Random Data, Permutations, Distributions and Random Generator.\n",
    "\n",
    "In this section, we will see an overview of Simple Random Data and Permutations. In general, simple random data functions return random variables and permutations functions modify or permute the secuences of the variable. \n",
    "\n",
    "Let's see some examples of the main functions:\n",
    "\n",
    "### Simple Random Data"
   ]
  },
  {
   "cell_type": "markdown",
   "metadata": {},
   "source": [
    "- **Numpy.random.rand():** As we mentioned above, this function returns a random float number in the interval [0.0, 1.0). The result will always be less than the right-hand endpoint (1.0). This is also known as a semi-open range:"
   ]
  },
  {
   "cell_type": "code",
   "execution_count": 24,
   "metadata": {},
   "outputs": [
    {
     "data": {
      "text/plain": [
       "0.7809338021056054"
      ]
     },
     "execution_count": 24,
     "metadata": {},
     "output_type": "execute_result"
    }
   ],
   "source": [
    "np.random.rand()"
   ]
  },
  {
   "cell_type": "markdown",
   "metadata": {},
   "source": [
    "- **Numpy.random.randn():** Returns samples from the “standard normal” distribution (will be explained further). This function takes a single argument to specify the size of the resulting array. The Gaussian values are drawn from a standard Gaussian distribution; this is a distribution that has a mean of 0.0 and a standard deviation of 1.0."
   ]
  },
  {
   "cell_type": "code",
   "execution_count": 25,
   "metadata": {},
   "outputs": [
    {
     "data": {
      "text/plain": [
       "-0.32635588771472573"
      ]
     },
     "execution_count": 25,
     "metadata": {},
     "output_type": "execute_result"
    }
   ],
   "source": [
    "np.random.randn()"
   ]
  },
  {
   "cell_type": "markdown",
   "metadata": {},
   "source": [
    "- **Numpy.random.randint:** Generate a random integer between two endpoints. This spans the full [x, y] interval and may include both endpoints. \n",
    "In the example below, will return a random number between 500 and 50000 and include both"
   ]
  },
  {
   "cell_type": "code",
   "execution_count": 26,
   "metadata": {},
   "outputs": [
    {
     "data": {
      "text/plain": [
       "20093"
      ]
     },
     "execution_count": 26,
     "metadata": {},
     "output_type": "execute_result"
    }
   ],
   "source": [
    "np.random.randint(500, 50000)"
   ]
  },
  {
   "cell_type": "markdown",
   "metadata": {},
   "source": [
    "- **Numpy.random.random_sample:** Returns a random float in the half-open interval between [0.0, 1.0), use to mimic sampling without replacement. Results are from the “continuous uniform” distribution over the stated interval. "
   ]
  },
  {
   "cell_type": "code",
   "execution_count": 27,
   "metadata": {},
   "outputs": [
    {
     "data": {
      "text/plain": [
       "0.6373709232064894"
      ]
     },
     "execution_count": 27,
     "metadata": {},
     "output_type": "execute_result"
    }
   ],
   "source": [
    "np.random.random_sample()"
   ]
  },
  {
   "cell_type": "markdown",
   "metadata": {},
   "source": [
    "### Permutations "
   ]
  },
  {
   "cell_type": "markdown",
   "metadata": {},
   "source": [
    "- **Numpy.random.shuffle:** This function will modify the sequence object and randomize the order of elements. This function only shuffles the array along the first axis of a multi-dimensional array. The order of sub-arrays is changed but their contents remains the same."
   ]
  },
  {
   "cell_type": "code",
   "execution_count": 28,
   "metadata": {},
   "outputs": [
    {
     "data": {
      "text/plain": [
       "array([8, 9, 1, 6, 4, 7, 0, 2, 5, 3])"
      ]
     },
     "execution_count": 28,
     "metadata": {},
     "output_type": "execute_result"
    }
   ],
   "source": [
    "arr = np.arange(10)\n",
    "np.random.shuffle(arr)\n",
    "arr"
   ]
  },
  {
   "cell_type": "markdown",
   "metadata": {},
   "source": [
    "- **Numpy.random.permutation:** Randomly permute a sequence, or return a permuted range.\n",
    "\n",
    "What is Permutation? Is an arrangement of objects in a specific order. Order of arrangement of object is very important. The number of permutations on a set of n elements is given by  n!.  For example, there are 2! = 2*1 = 2 permutations of {1, 2}, namely {1, 2} and {2, 1}, and 3! = 3*2*1 = 6 permutations of {1, 2, 3}, namely {1, 2, 3}, {1, 3, 2}, {2, 1, 3}, {2, 3, 1}, {3, 1, 2} and {3, 2, 1}.\n",
    "    \n"
   ]
  },
  {
   "cell_type": "code",
   "execution_count": 29,
   "metadata": {},
   "outputs": [
    {
     "data": {
      "text/plain": [
       "array([3, 0, 7, 4, 9, 2, 5, 8, 1, 6])"
      ]
     },
     "execution_count": 29,
     "metadata": {},
     "output_type": "execute_result"
    }
   ],
   "source": [
    "np.random.permutation(10)"
   ]
  },
  {
   "cell_type": "markdown",
   "metadata": {},
   "source": [
    "# Use and purpose of some “Distributions” functions\n",
    "___________________________________________________________________________________________________________________________"
   ]
  },
  {
   "cell_type": "markdown",
   "metadata": {},
   "source": [
    "### Numpy.random.triangular: <br> \n",
    "\n",
    "Is a continuous probability distribution shaped like a triangle, provides a simplistic representation of the probability distribution when sample data is limited. Estimate the lower and upper boundaries of the distribution by finding the minimum and maximum values of the sample data. For the peak parameter, the median might provide a better estimate of the mode than the mean, since the data includes an outlier.\n",
    "\n",
    "It is defined by:\n",
    "\n",
    "a: the minimum value, where a ≤ c,<br>\n",
    "b: the maximum value, where b ≥ c,<br>\n",
    "c: the peak value (the height of the triangle), where a ≤ c ≤ b<br>\n",
    "\n",
    "Example taken from [numpy.random manual](https://docs.scipy.org/doc/numpy-1.15.0/reference/generated/numpy.random.triangular.html), where we created 1000000 values, with a minimum value of -3, maximum value is 8 and the peak value is on 0. And we can see the plot has a triangular shape.\n"
   ]
  },
  {
   "cell_type": "code",
   "execution_count": 30,
   "metadata": {},
   "outputs": [],
   "source": [
    "import matplotlib.pyplot as plt"
   ]
  },
  {
   "cell_type": "code",
   "execution_count": 31,
   "metadata": {},
   "outputs": [
    {
     "data": {
      "image/png": "[encoded data removed]",
      "text/plain": [
       "<Figure size 432x288 with 1 Axes>"
      ]
     },
     "metadata": {
      "needs_background": "light"
     },
     "output_type": "display_data"
    }
   ],
   "source": [
    "h = plt.hist(np.random.triangular(-3, 0, 8, 100000), bins=200, density=True)"
   ]
  },
  {
   "cell_type": "markdown",
   "metadata": {},
   "source": [
    "### Numpy.random.uniform: <br>\n",
    "The continuous uniform distribution or rectangular distribution is a family of symmetric probability distributions such that for each member of the family, all intervals of the same length on the distribution's support are equally probable. The support is defined by the two parameters, a and b, which are its minimum and maximum values.\n",
    "Samples are uniformly distributed over the half-open interval [low, high) (includes low, but excludes high). In other words, any value within the given interval is equally likely to be drawn by uniform.\n",
    "\n",
    "Example taken from [numpy.random manual](https://docs.scipy.org/doc/numpy-1.16.0/reference/generated/numpy.random.uniform.html#numpy.random.uniform), we created 15 values with similar distribution between -1 and 0, so we guarantee there is no significant gaps between one value and the other and as we can see the plot has a rectangular shape."
   ]
  },
  {
   "cell_type": "code",
   "execution_count": 32,
   "metadata": {},
   "outputs": [],
   "source": [
    "s = np.random.uniform(-1,0,1000)"
   ]
  },
  {
   "cell_type": "markdown",
   "metadata": {},
   "source": [
    "All values are within the given interval:"
   ]
  },
  {
   "cell_type": "code",
   "execution_count": 33,
   "metadata": {},
   "outputs": [
    {
     "data": {
      "text/plain": [
       "True"
      ]
     },
     "execution_count": 33,
     "metadata": {},
     "output_type": "execute_result"
    }
   ],
   "source": [
    "np.all(s >= -1)\n",
    "np.all(s < 0)"
   ]
  },
  {
   "cell_type": "markdown",
   "metadata": {},
   "source": [
    "Display the histogram of the samples, along with the probability density function:"
   ]
  },
  {
   "cell_type": "code",
   "execution_count": 34,
   "metadata": {},
   "outputs": [
    {
     "data": {
      "text/plain": [
       "[<matplotlib.lines.Line2D at 0x1e159461a88>]"
      ]
     },
     "execution_count": 34,
     "metadata": {},
     "output_type": "execute_result"
    },
    {
     "data": {
      "image/png": "[encoded data removed]",
      "text/plain": [
       "<Figure size 432x288 with 1 Axes>"
      ]
     },
     "metadata": {
      "needs_background": "light"
     },
     "output_type": "display_data"
    }
   ],
   "source": [
    "count, bins, ignored = plt.hist(s, 15, density=True)\n",
    "plt.plot(bins, np.ones_like(bins), linewidth=2, color='r')"
   ]
  },
  {
   "cell_type": "markdown",
   "metadata": {},
   "source": [
    "### Numpy.random.power: <br>\n",
    "In statistics, a power law is a functional relationship between two quantities, where a relative change in one quantity results in a proportional relative change in the other quantity, independent of the initial size of those quantities: one quantity varies as a power of another. The simplest example of the law in action is a square; if you double the length of a side (say, from 2 to 4 inches) then the area will quadruple (from 4 to 16 inches squared).\n",
    "\n",
    "The formula draws samples in intervals between [0, 1] from a power distribution with positive exponent a - 1.\n",
    "\n",
    "Example taken from [numpy.random manual](https://docs.scipy.org/doc/numpy-1.16.0/reference/generated/numpy.random.power.html#numpy.random.power), we first draw 1000 samples for the function and after we display it we can notice how the y area increase the doube related to x."
   ]
  },
  {
   "cell_type": "code",
   "execution_count": 35,
   "metadata": {},
   "outputs": [],
   "source": [
    "a = 5.\n",
    "samples = 1000\n",
    "s = np.random.power(a, samples)"
   ]
  },
  {
   "cell_type": "code",
   "execution_count": 36,
   "metadata": {},
   "outputs": [
    {
     "data": {
      "text/plain": [
       "[<matplotlib.lines.Line2D at 0x1e1599b7708>]"
      ]
     },
     "execution_count": 36,
     "metadata": {},
     "output_type": "execute_result"
    },
    {
     "data": {
      "image/png": "[encoded data removed]",
      "text/plain": [
       "<Figure size 432x288 with 1 Axes>"
      ]
     },
     "metadata": {
      "needs_background": "light"
     },
     "output_type": "display_data"
    }
   ],
   "source": [
    "count, bins, ignored = plt.hist(s, bins=30)\n",
    "x = np.linspace(0, 1, 100)\n",
    "y = a*x**(a-1.)\n",
    "normed_y = samples*np.diff(bins)[0]*y\n",
    "plt.plot(x, normed_y)"
   ]
  },
  {
   "cell_type": "markdown",
   "metadata": {},
   "source": [
    "### Numpy.random.pareto:<br>\n",
    "The Pareto distribution, named after the Italian civil engineer, economist, and sociologist Vilfredo Pareto, is a power-law probability distribution that is used in many types of observable phenomena. Originally applied to describing the distribution of wealth in a society, fitting the trend that a large portion of wealth is held by a small fraction of the population, the Pareto distribution has colloquially become known and referred to as the Pareto principle, or \"80-20 rule\", and is sometimes called the \"Matthew principle\". This rule states that, for example, 80% of the wealth of a society is held by 20% of its population. \n",
    "\n",
    "Example taken from [numpy.random manual](https://docs.scipy.org/doc/numpy-1.16.0/reference/generated/numpy.random.pareto.html#numpy.random.pareto). Where we can see that 80 percent of the weights are in the lowest 20 percent of the range, while the other 20 percent fill the remaining 80 percent of the range."
   ]
  },
  {
   "cell_type": "code",
   "execution_count": 37,
   "metadata": {},
   "outputs": [],
   "source": [
    "a, m = 3., 2.  # shape and mode\n",
    "s = (np.random.pareto(a, 1000) + 1) * m"
   ]
  },
  {
   "cell_type": "code",
   "execution_count": 38,
   "metadata": {},
   "outputs": [
    {
     "data": {
      "text/plain": [
       "[<matplotlib.lines.Line2D at 0x1e159a5eb08>]"
      ]
     },
     "execution_count": 38,
     "metadata": {},
     "output_type": "execute_result"
    },
    {
     "data": {
      "image/png": "[encoded data removed]",
      "text/plain": [
       "<Figure size 432x288 with 1 Axes>"
      ]
     },
     "metadata": {
      "needs_background": "light"
     },
     "output_type": "display_data"
    }
   ],
   "source": [
    "count, bins, _ = plt.hist(s, 100, density=True)\n",
    "fit = a*m**a / bins**(a+1)\n",
    "plt.plot(bins, max(count)*fit/max(fit), linewidth=2, color='r')"
   ]
  },
  {
   "cell_type": "markdown",
   "metadata": {},
   "source": [
    "### Numpy.random.poisson:<br>\n",
    "The Poisson distribution, named after French mathematician Siméon Denis Poisson, is a discrete probability distribution that expresses the probability of a given number of events occurring in a fixed interval of time or space if these events occur with a known constant rate and independently of the time since the last event. The Poisson distribution can also be used for the number of events in other specified intervals such as distance, area or volume.\n",
    "\n",
    "For instance, the number of phone calls received by a call center per hour and the number of decay events per second from a radioactive source.\n",
    "\n",
    "Example taken from [numpy.random manual](https://docs.scipy.org/doc/numpy-1.16.0/reference/generated/numpy.random.poisson.html#numpy-random-poisson). Where we can see the interval is >= 0 and a sequence of 5 intervals must be broadcastable over 10000 variables size. The informatin is displayed in 14 bins.\n"
   ]
  },
  {
   "cell_type": "code",
   "execution_count": 39,
   "metadata": {},
   "outputs": [],
   "source": [
    "s = np.random.poisson(5, 10000)"
   ]
  },
  {
   "cell_type": "code",
   "execution_count": 40,
   "metadata": {},
   "outputs": [
    {
     "data": {
      "image/png": "[encoded data removed]",
      "text/plain": [
       "<Figure size 432x288 with 1 Axes>"
      ]
     },
     "metadata": {
      "needs_background": "light"
     },
     "output_type": "display_data"
    }
   ],
   "source": [
    "count, bins, ignored = plt.hist(s, 14, density=True)"
   ]
  },
  {
   "cell_type": "markdown",
   "metadata": {},
   "source": [
    "# Use of seeds in generating pseudorandom numbers\n",
    "___________________________________________________________________________________________________________________________"
   ]
  },
  {
   "cell_type": "markdown",
   "metadata": {},
   "source": [
    "### What is NumPy random seed?\n",
    "NumPy random seed is a function that sets the random seed of the NumPy pseudo-random number generator. It provides an essential input that enables NumPy to generate pseudo-random numbers for random processes.\n",
    "\n",
    "### What is a pseudo-random number?\n",
    "Pseudo-random numbers are computer generated numbers that appear random, but are actually predetermined. Almost random, but not really random. \n",
    "\n",
    "Computers solve the problem of generating “random” numbers with an algorithm. That is to say, the numbers generated by pseudo-random number generators appear to be random. Even though the numbers they are completely determined by the algorithm, when you examine them, there is typically no discernible pattern.\n",
    "\n",
    "### Use of seed \n",
    "\n",
    "Numpy.random.seed provides an input to the pseudo-random number generator.\n",
    "\n",
    "The pseudo-random number generated by NumPy, are 100% determined by the input and the algorithm provided and that is what seed function does. \n",
    "\n",
    "It allows you to provide a “seed” value to NumPy’s random number generator.\n",
    "\n",
    "The numpy.random.seed function works in conjunction with other functions from NumPy. For example, you might use numpy.random.seed along with numpy.random.randint and this will enable you to create random integers with NumPy. You can also use numpy.random.seed with numpy.random.normal to create normally distributed numbers… or you can use it with numpy.random.choice to generate a random sample from an input.\n",
    "\n",
    "In fact, there are several dozen NumPy random functions that enable you to generate random numbers, random samples, and samples from specific probability distributions.\n",
    "\n",
    "As mentioned, pseudo-random number generators are completely deterministic which mean they operate by algorithm, therefore if you provide the same seed, you will get the same output and if you change the seed you will get a different output.\n",
    "\n",
    "Essentially, we use NumPy random seed when we need to generate pseudo-random numbers in a repeatable way, that makes the code easier to share and if you don't set a seed, Numpy will set one for you and that seed might change moment to moment. This will make your outputs different every time you run it.\n",
    "\n",
    "So to summarize: you don’t absolutely have to use numpy.random.seed, but you should use it if you want your code to have repeatable outputs.\n",
    "\n",
    "See below example of use of seed using randint formula, if you run the same formula always will produce the same numbers, as the seed provides the input to create the rest of numbers. If you don't use seed, the formula will produce different numbers.\n"
   ]
  },
  {
   "cell_type": "code",
   "execution_count": 41,
   "metadata": {},
   "outputs": [
    {
     "data": {
      "text/plain": [
       "array([5, 8, 9, 5, 0])"
      ]
     },
     "execution_count": 41,
     "metadata": {},
     "output_type": "execute_result"
    }
   ],
   "source": [
    "np.random.seed(1)\n",
    "np.random.randint(10, size = 5)"
   ]
  },
  {
   "cell_type": "markdown",
   "metadata": {},
   "source": [
    "# Sumary\n",
    "___________________________________________________________________________________________________________________________\n",
    "\n",
    "In this notebook, you will have the opportunity to learn more about how to generate and work with random numbers in Python using Numpy packages.\n",
    "\n",
    "We learned about the importance of random numbers in data science, we understood better the functionality of Simple Random Data and what is permutation, we gained more information of some distribution functions purpose and discover the importance of seed to create repeatable outputs. \n",
    "\n",
    "The official Numpy Manual is a helpful tool to understand the numpy.random package but need further investigation for a better understanding of beginners in the area."
   ]
  },
  {
   "cell_type": "markdown",
   "metadata": {},
   "source": [
    "# References\n",
    "___________________________________________________________________________________________________________________________\n",
    "\n",
    "- https://www.sharpsightlabs.com/blog/numpy-random-normal/\n",
    "- https://pynative.com/python-random-module/\n",
    "- https://docs.scipy.org/doc/numpy-1.16.0/reference/routines.random.html#simple-random-data\n",
    "- https://www.geeksforgeeks.org/generate-all-the-permutation-of-a-list-in-python/\n",
    "- https://realpython.com/python-random/\n",
    "- https://honingds.com/blog/python-random/ \n",
    "- https://machinelearningmastery.com/how-to-generate-random-numbers-in-python/\n",
    "- https://www.r-craft.org/r-news/numpy-random-seed-explained/\n",
    "- https://www.statisticshowto.datasciencecentral.com/triangular-distribution/\n",
    "- https://www.mathworks.com/help/stats/generate-random-numbers-using-a-triangular-probability-distribution-object.html\n",
    "- https://docs.scipy.org/doc/numpy-1.15.0/reference/generated/numpy.random.triangular.html\n",
    "- https://en.wikipedia.org/wiki/Uniform_distribution_(continuous)\n",
    "- https://docs.scipy.org/doc/numpy-1.16.0/reference/generated/numpy.random.uniform.html#numpy.random.uniform\n",
    "- https://en.wikipedia.org/wiki/Power_law\n",
    "- https://docs.scipy.org/doc/numpy-1.16.0/reference/generated/numpy.random.power.html#numpy.random.power\n",
    "- https://en.wikipedia.org/wiki/Pareto_distribution\n",
    "- https://en.wikipedia.org/wiki/Poisson_distribution\n",
    "- https://docs.scipy.org/doc/numpy-1.16.0/reference/generated/numpy.random.poisson.html#numpy-random-poisson"
   ]
  }
 ],
 "metadata": {
  "kernelspec": {
   "display_name": "Python 3",
   "language": "python",
   "name": "python3"
  },
  "language_info": {
   "codemirror_mode": {
    "name": "ipython",
    "version": 3
   },
   "file_extension": ".py",
   "mimetype": "text/x-python",
   "name": "python",
   "nbconvert_exporter": "python",
   "pygments_lexer": "ipython3",
   "version": "3.7.4"
  }
 },
 "nbformat": 4,
 "nbformat_minor": 2
}
