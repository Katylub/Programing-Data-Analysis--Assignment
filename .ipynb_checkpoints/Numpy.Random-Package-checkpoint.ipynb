{
 "cells": [
  {
   "cell_type": "markdown",
   "metadata": {},
   "source": [
    "1. Explain the overall purpose of the package.\n",
    "## About Numpy.Random Package"
   ]
  },
  {
   "cell_type": "markdown",
   "metadata": {},
   "source": [
    "If you’re doing any sort of statistics or data science in Python, you’ll often need to work with random numbers. And in particular, you’ll often need to work with normally distributed numbers.\n",
    "The NumPy random normal function generates a sample of numbers drawn from the normal distribution, otherwise called the Gaussian distribution."
   ]
  },
  {
   "cell_type": "markdown",
   "metadata": {},
   "source": [
    "### What is Numpy?\n",
    "\n",
    "NumPy is a module for the Python programming language that’s used for data science and scientific computing.\n",
    "\n",
    "Specifically, NumPy performs data manipulation on numerical data. It enables you to collect numeric data into a data structure, called the NumPy array. It also enables you to perform various computations and manipulations on NumPy arrays.\n",
    "\n",
    "Essentially, NumPy is a package for working with numeric data in Python.\n",
    "\n",
    "### Numpy.Random Package\n",
    "\n",
    "\n",
    "Random Numbers in Python. Python defines a set of functions that are used to generate or manipulate random numbers. This particular type of functions are used in a lot of games, lotteries or any application requiring random number generation."
   ]
  },
  {
   "cell_type": "markdown",
   "metadata": {},
   "source": [
    "NumPy random normal generates normally distributed numbers\n",
    "So NumPy is a package for working with numerical data. Where does np.random.normal fit in?\n",
    "As I mentioned previously, NumPy has a variety of tools for working with numerical data. In most cases, NumPy’s tools enable you to do one of two things: create numerical data (structured as a NumPy array), or perform some calculation on a NumPy array.\n",
    "The NumPy random normal function enables you to create a NumPy array that contains normally distributed data.\n",
    "Hopefully you’re familiar with normally distributed data, but just as a refresher, here’s what it looks like when we plot it in a histogram:\n",
    "Normally distributed data is shaped sort of like a bell, so it’s often called the “bell curve.”"
   ]
  },
  {
   "cell_type": "code",
   "execution_count": null,
   "metadata": {},
   "outputs": [],
   "source": []
  },
  {
   "cell_type": "markdown",
   "metadata": {},
   "source": [
    "2. Explain the use of the “Simple random data” and “Permutations” functions."
   ]
  },
  {
   "cell_type": "markdown",
   "metadata": {},
   "source": [
    "Simple Random Data"
   ]
  },
  {
   "cell_type": "markdown",
   "metadata": {},
   "source": [
    "Permutations:Permutation is an arrangement of objects in a specific order. Order of arrangement of object is very important. The number of permutations on a set of n elements is given by  n!.  For example, there are 2! = 2*1 = 2 permutations of {1, 2}, namely {1, 2} and {2, 1}, and 3! = 3*2*1 = 6 permutations of {1, 2, 3}, namely {1, 2, 3}, {1, 3, 2}, {2, 1, 3}, {2, 3, 1}, {3, 1, 2} and {3, 2, 1}.\n",
    "    \n",
    "    cupy.random.permutation\n",
    "cupy.random.permutation(a)[source]\n",
    "Returns a permuted range or a permutation of an array.\n",
    "\n",
    "Parameters:\ta (int or cupy.ndarray) – The range or the array to be shuffled.\n",
    "Returns:\tIf a is an integer, it is permutation range between 0 and a - 1. Otherwise, it is a permutation of a.\n",
    "Return type:\tcupy.ndarray"
   ]
  },
  {
   "cell_type": "markdown",
   "metadata": {},
   "source": [
    "3. Explain the use and purpose of at least five “Distributions” functions."
   ]
  },
  {
   "cell_type": "code",
   "execution_count": null,
   "metadata": {},
   "outputs": [],
   "source": []
  },
  {
   "cell_type": "markdown",
   "metadata": {},
   "source": [
    "References\n",
    "https://www.sharpsightlabs.com/blog/numpy-random-normal/\n",
    "https://pynative.com/python-random-module/\n",
    "https://docs.scipy.org/doc/numpy-1.16.0/reference/routines.random.html#simple-random-data\n",
    "https://www.geeksforgeeks.org/generate-all-the-permutation-of-a-list-in-python/"
   ]
  },
  {
   "cell_type": "markdown",
   "metadata": {},
   "source": [
    "4. Explain the use of seeds in generating pseudorandom numbers."
   ]
  },
  {
   "cell_type": "code",
   "execution_count": null,
   "metadata": {},
   "outputs": [],
   "source": []
  }
 ],
 "metadata": {
  "kernelspec": {
   "display_name": "Python 3",
   "language": "python",
   "name": "python3"
  },
  "language_info": {
   "codemirror_mode": {
    "name": "ipython",
    "version": 3
   },
   "file_extension": ".py",
   "mimetype": "text/x-python",
   "name": "python",
   "nbconvert_exporter": "python",
   "pygments_lexer": "ipython3",
   "version": "3.7.4"
  }
 },
 "nbformat": 4,
 "nbformat_minor": 2
}
