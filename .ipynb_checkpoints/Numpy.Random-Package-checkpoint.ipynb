{
 "cells": [
  {
   "cell_type": "markdown",
   "metadata": {},
   "source": [
    "# Introduction\n",
    "\n",
    "This document has been created to understand the functionality of numpy.random package in Python. The document is separated in four different task, summarised as below: \n",
    "\n",
    "1. Overall purpose of the package.\n",
    "2. Use of the “Simple random data” and “Permutations” functions.\n",
    "3. Use and purpose of at least five “Distributions” functions.\n",
    "4. Use of seeds in generating pseudorandom numbers.\n"
   ]
  },
  {
   "cell_type": "markdown",
   "metadata": {},
   "source": [
    "# Overal Purpose of Numpy.Random Package"
   ]
  },
  {
   "cell_type": "markdown",
   "metadata": {},
   "source": [
    "### What is Numpy?\n",
    "\n",
    "NumPy is a module for the Python programming language that’s used for data science and scientific computing.\n",
    "\n",
    "Specifically, NumPy performs data manipulation on numerical data. It enables you to collect numeric data into a data structure, called the NumPy array. It also enables you to perform various computations and manipulations on NumPy arrays.\n",
    "\n",
    "Essentially, NumPy is a package for working with numeric data in Python.\n",
    "\n",
    "### Numpy.Random Package\n",
    "\n",
    "If you’re doing any sort of statistics or data science in Python, you’ll often need to work with random numbers. Random samples are very common in data-related fields. This particular type of functions are used in a lot of games, lotteries or any application requiring random number generation. \n",
    "\n",
    "NumPy has a variety of tools for working with numerical data, creating random samples. In most cases, NumPy’s tools enable you to do one of two things: create numerical data (structured as a NumPy array), or perform some calculation on a NumPy array.\n",
    "\n",
    "If you’re working in Python and doing any sort of data work, you’ll have to create a random sample at some point. NumPy random Package can help you do just that."
   ]
  },
  {
   "cell_type": "markdown",
   "metadata": {},
   "source": [
    "Example:\n",
    "First we need to import numpy with a name easy to handle and np is commonly use"
   ]
  },
  {
   "cell_type": "code",
   "execution_count": 8,
   "metadata": {},
   "outputs": [],
   "source": [
    "import numpy as np"
   ]
  },
  {
   "cell_type": "markdown",
   "metadata": {},
   "source": [
    "A example in the formula below, we ask Numpy to give us a random float and if we don't specify the interval, numpy will give a number in the half-open interval between [0.0, 1.0)"
   ]
  },
  {
   "cell_type": "code",
   "execution_count": 9,
   "metadata": {},
   "outputs": [
    {
     "data": {
      "text/plain": [
       "0.12061979955066904"
      ]
     },
     "execution_count": 9,
     "metadata": {},
     "output_type": "execute_result"
    }
   ],
   "source": [
    "np.random.random_sample()"
   ]
  },
  {
   "cell_type": "markdown",
   "metadata": {},
   "source": [
    "We can ask numpy what kind of sample is giving us"
   ]
  },
  {
   "cell_type": "code",
   "execution_count": 10,
   "metadata": {},
   "outputs": [
    {
     "data": {
      "text/plain": [
       "float"
      ]
     },
     "execution_count": 10,
     "metadata": {},
     "output_type": "execute_result"
    }
   ],
   "source": [
    "type(np.random.random_sample())"
   ]
  },
  {
   "cell_type": "markdown",
   "metadata": {},
   "source": [
    "We can ask numpy to give us different randoms number, below we have the example for 5"
   ]
  },
  {
   "cell_type": "code",
   "execution_count": 12,
   "metadata": {},
   "outputs": [
    {
     "data": {
      "text/plain": [
       "array([0.670358  , 0.38212519, 0.04219481, 0.97224492, 0.68443269])"
      ]
     },
     "execution_count": 12,
     "metadata": {},
     "output_type": "execute_result"
    }
   ],
   "source": [
    "np.random.random_sample((5,))"
   ]
  },
  {
   "cell_type": "markdown",
   "metadata": {},
   "source": [
    "# Use of the “Simple random data” and “Permutations” functions."
   ]
  },
  {
   "cell_type": "markdown",
   "metadata": {},
   "source": [
    "Simple Random Data"
   ]
  },
  {
   "cell_type": "markdown",
   "metadata": {},
   "source": [
    "Permutations:Permutation is an arrangement of objects in a specific order. Order of arrangement of object is very important. The number of permutations on a set of n elements is given by  n!.  For example, there are 2! = 2*1 = 2 permutations of {1, 2}, namely {1, 2} and {2, 1}, and 3! = 3*2*1 = 6 permutations of {1, 2, 3}, namely {1, 2, 3}, {1, 3, 2}, {2, 1, 3}, {2, 3, 1}, {3, 1, 2} and {3, 2, 1}.\n",
    "    \n",
    "    cupy.random.permutation\n",
    "cupy.random.permutation(a)[source]\n",
    "Returns a permuted range or a permutation of an array.\n",
    "\n",
    "Parameters:\ta (int or cupy.ndarray) – The range or the array to be shuffled.\n",
    "Returns:\tIf a is an integer, it is permutation range between 0 and a - 1. Otherwise, it is a permutation of a.\n",
    "Return type:\tcupy.ndarray\n",
    "\n",
    "Shufle https://machinelearningmastery.com/how-to-generate-random-numbers-in-python/\n",
    "\n",
    "Randomness can be used to shuffle a list of items, like shuffling a deck of cards.\n",
    "\n",
    "The shuffle() function can be used to shuffle a list. The shuffle is performed in place, meaning that the list provided as an argument to the shuffle() function is shuffled rather than a shuffled copy of the list being made and returned.\n",
    "\n",
    "The example below demonstrates randomly shuffling a list of integer values."
   ]
  },
  {
   "cell_type": "markdown",
   "metadata": {},
   "source": [
    "3. Explain the use and purpose of at least five “Distributions” functions."
   ]
  },
  {
   "cell_type": "code",
   "execution_count": null,
   "metadata": {},
   "outputs": [],
   "source": []
  },
  {
   "cell_type": "code",
   "execution_count": null,
   "metadata": {},
   "outputs": [],
   "source": []
  },
  {
   "cell_type": "code",
   "execution_count": null,
   "metadata": {},
   "outputs": [],
   "source": []
  },
  {
   "cell_type": "code",
   "execution_count": null,
   "metadata": {},
   "outputs": [],
   "source": []
  },
  {
   "cell_type": "markdown",
   "metadata": {},
   "source": []
  },
  {
   "cell_type": "markdown",
   "metadata": {},
   "source": [
    "# Use of seeds in generating pseudorandom numbers."
   ]
  },
  {
   "cell_type": "markdown",
   "metadata": {},
   "source": [
    "### What is NumPy random seed?\n",
    "NumPy random seed is a function that sets the random seed of the NumPy pseudo-random number generator. It provides an essential input that enables NumPy to generate pseudo-random numbers for random processes.\n",
    "\n",
    "### What is a pseudo-random number?\n",
    "Pseudo-random numbers are computer generated numbers that appear random, but are actually predetermined. Almost random, but not really random. \n",
    "\n",
    "Computers solve the problem of generating “random” numbers with an algorithm. That is to say, the numbers generated by pseudo-random number generators appear to be random. Even though the numbers they are completely determined by the algorithm, when you examine them, there is typically no discernible pattern.\n",
    "\n",
    "### Use of seed \n",
    "\n",
    "Numpy.random.seed provides an input to the pseudo-random number generator.\n",
    "\n",
    "The pseudo-random number generated by NumPy, are 100% determined by the input and the algorithm provided and that is what seed function does. \n",
    "\n",
    "It allows you to provide a “seed” value to NumPy’s random number generator.\n",
    "\n",
    "The numpy.random.seed function works in conjunction with other functions from NumPy. For example, you might use numpy.random.seed along with numpy.random.randint and this will enable you to create random integers with NumPy. You can also use numpy.random.seed with numpy.random.normal to create normally distributed numbers… or you can use it with numpy.random.choice to generate a random sample from an input.\n",
    "\n",
    "In fact, there are several dozen NumPy random functions that enable you to generate random numbers, random samples, and samples from specific probability distributions.\n",
    "\n",
    "As mentioned, pseudo-random number generators are completely deterministic which mean they operate by algorithm, therefore if you provide the same seed, you will get the same output and if you change the seed you will get a different output.\n",
    "\n",
    "Essentially, we use NumPy random seed when we need to generate pseudo-random numbers in a repeatable way, that makes the code easier to share and if you don't set a seed, Numpy will set one for you and that seed might change moment to moment. This will make your outputs different every time you run it.\n",
    "\n",
    "So to summarize: you don’t absolutely have to use numpy.random.seed, but you should use it if you want your code to have repeatable outputs.\n"
   ]
  },
  {
   "cell_type": "markdown",
   "metadata": {},
   "source": [
    "## References\n",
    "\n",
    "- https://www.sharpsightlabs.com/blog/numpy-random-normal/\n",
    "- https://pynative.com/python-random-module/\n",
    "- https://docs.scipy.org/doc/numpy-1.16.0/reference/routines.random.html#simple-random-data\n",
    "- https://www.geeksforgeeks.org/generate-all-the-permutation-of-a-list-in-python/\n",
    "- https://realpython.com/python-random/\n",
    "- https://honingds.com/blog/python-random/ ' Seed\n",
    "- https://machinelearningmastery.com/how-to-generate-random-numbers-in-python/\n",
    "- https://www.r-craft.org/r-news/numpy-random-seed-explained/"
   ]
  }
 ],
 "metadata": {
  "kernelspec": {
   "display_name": "Python 3",
   "language": "python",
   "name": "python3"
  },
  "language_info": {
   "codemirror_mode": {
    "name": "ipython",
    "version": 3
   },
   "file_extension": ".py",
   "mimetype": "text/x-python",
   "name": "python",
   "nbconvert_exporter": "python",
   "pygments_lexer": "ipython3",
   "version": "3.7.4"
  }
 },
 "nbformat": 4,
 "nbformat_minor": 2
}
